{
 "cells": [
  {
   "cell_type": "code",
   "execution_count": 51,
   "id": "78fbd988",
   "metadata": {},
   "outputs": [
    {
     "name": "stderr",
     "output_type": "stream",
     "text": [
      "[nltk_data] Downloading package wordnet to\n",
      "[nltk_data]     /Users/rachelphan/nltk_data...\n",
      "[nltk_data]   Package wordnet is already up-to-date!\n"
     ]
    },
    {
     "data": {
      "text/plain": [
       "True"
      ]
     },
     "execution_count": 51,
     "metadata": {},
     "output_type": "execute_result"
    }
   ],
   "source": [
    "import nltk #download the stop words from here\n",
    "from nltk.corpus import stopwords\n",
    "import pandas as pd\n",
    "import numpy as np\n",
    "from nltk.stem import PorterStemmer\n",
    "from nltk.tokenize import word_tokenize\n",
    "from nltk.stem import WordNetLemmatizer\n",
    "nltk.download('wordnet')\n",
    "\n",
    "\n",
    "\n"
   ]
  },
  {
   "cell_type": "code",
   "execution_count": 114,
   "id": "00c5679a",
   "metadata": {},
   "outputs": [],
   "source": [
    "#Preprocessing -- takes in a string of messy words and return a string of words after processing\n",
    "#Remove messy symbols\n",
    "\n",
    "def remove_symbol (text):\n",
    "    mess = r\"~!@#$%^&*()_+1234567890-=|}{[]\\\":;'/.,<>?’`Äôòùúäîì\"\n",
    "    for i in range(len(text)):\n",
    "        for symbol in mess:\n",
    "            text[i] = text[i].replace(symbol,\"\")\n",
    "    return text\n",
    "\n",
    "#Remove stop words from NLTK\n",
    "def remove_stopword(text):\n",
    "    newtext = []\n",
    "    sw = stopwords.words('english')\n",
    "    for i in range(len(text)):\n",
    "        if text[i] not in sw:\n",
    "            newtext.append(text[i])\n",
    "    return newtext\n",
    "#Stemming and Lemmatization \n",
    "def stemandlemma(text):\n",
    "    ps = PorterStemmer()\n",
    "    #lm = WordNetLemmatizer()\n",
    "    for i in range(len(text)):\n",
    "        text[i] = ps.stem(text[i])\n",
    "        #text[i] = lm.lemmatize(text[i])\n",
    "    return text\n",
    "\n",
    "def clean(text):\n",
    "    text = text.split()\n",
    "    text = remove_symbol(text)\n",
    "    text = remove_stopword(text)\n",
    "    text = stemandlemma(text)\n",
    "    text = ' '.join(text)\n",
    "    return text\n"
   ]
  },
  {
   "cell_type": "code",
   "execution_count": 115,
   "id": "742c9ba3",
   "metadata": {},
   "outputs": [
    {
     "name": "stdout",
     "output_type": "stream",
     "text": [
      "<class 'pandas.core.frame.DataFrame'>\n",
      "RangeIndex: 20102 entries, 0 to 20101\n",
      "Data columns (total 5 columns):\n",
      " #   Column      Non-Null Count  Dtype \n",
      "---  ------      --------------  ----- \n",
      " 0   Unnamed: 0  20102 non-null  int64 \n",
      " 1   id          20102 non-null  int64 \n",
      " 2   title       20102 non-null  object\n",
      " 3   text        20102 non-null  object\n",
      " 4   label       20102 non-null  object\n",
      "dtypes: int64(2), object(3)\n",
      "memory usage: 785.4+ KB\n"
     ]
    }
   ],
   "source": [
    "#Read the data in\n",
    "\n",
    "train_data = pd.read_csv(\"/Users/rachelphan/Desktop/SPRING22/DATA400/mydata/train.csv\")\n",
    "\n",
    "\n",
    "test_data = pd.read_csv(\"/Users/rachelphan/Desktop/SPRING22/DATA400/mydata/test.csv\")\n",
    "\n",
    "submit_data = pd.read_csv(\"/Users/rachelphan/Desktop/SPRING22/DATA400/mydata/submit.csv\")\n",
    "\n",
    "\n",
    "#see the general information of the dataset\n",
    "train_data.info()"
   ]
  },
  {
   "cell_type": "code",
   "execution_count": 116,
   "id": "d49a0953",
   "metadata": {},
   "outputs": [],
   "source": [
    "#Add a column named \"total\" that contains both the title and the text for each article. \n",
    "#I'll be building my model on this \"total\" column and the \"label\" column\n",
    "test_data['total']=test_data['title']+' ' + test_data['text']\n",
    "train_data['total']=train_data['title']+' '+train_data['text']\n",
    "\n",
    "#clean every article using the clean function that was written above\n",
    "for idx, row in train_data.iterrows():\n",
    "    train_data.loc[idx,'total'] = clean(train_data.loc[idx,'total'])\n"
   ]
  },
  {
   "cell_type": "code",
   "execution_count": 117,
   "id": "b559713f",
   "metadata": {},
   "outputs": [
    {
     "name": "stdout",
     "output_type": "stream",
     "text": [
      "       Unnamed: 0     id                                              title  \\\n",
      "0               1      0  House Dem Aide: We Didn‚Äôt Even See Comey‚Äôs...   \n",
      "1               2      1  FLYNN: Hillary Clinton, Big Woman on Campus - ...   \n",
      "2               3      2                  Why the Truth Might Get You Fired   \n",
      "3               4      3  15 Civilians Killed In Single US Airstrike Hav...   \n",
      "4               5      4  Iranian woman jailed for fictional unpublished...   \n",
      "...           ...    ...                                                ...   \n",
      "20097       25100  20795  Rapper T.I.: Trump a ‚ÄôPoster Child For White...   \n",
      "20098       25101  20796  N.F.L. Playoffs: Schedule, Matchups and Odds -...   \n",
      "20099       25102  20797  Macy‚Äôs Is Said to Receive Takeover Approach ...   \n",
      "20100       25103  20798  NATO, Russia To Hold Parallel Exercises In Bal...   \n",
      "20101       25104  20799                          What Keeps the F-35 Alive   \n",
      "\n",
      "                                                    text label  \\\n",
      "0      House Dem Aide: We Didn‚Äôt Even See Comey‚Äôs...     1   \n",
      "1      Ever get the feeling your life circles the rou...     0   \n",
      "2      Why the Truth Might Get You Fired October 29, ...     1   \n",
      "3      Videos 15 Civilians Killed In Single US Airstr...     1   \n",
      "4      Print \\nAn Iranian woman has been sentenced to...     1   \n",
      "...                                                  ...   ...   \n",
      "20097  Rapper T. I. unloaded on black celebrities who...     0   \n",
      "20098  When the Green Bay Packers lost to the Washing...     0   \n",
      "20099  The Macy‚Äôs of today grew from the union of s...     0   \n",
      "20100  NATO, Russia To Hold Parallel Exercises In Bal...     1   \n",
      "20101    David Swanson is an author, activist, journa...     1   \n",
      "\n",
      "                                                   total  \n",
      "0      hous dem aid we didn‚t even see comey‚ letter ...  \n",
      "1      flynn hillari clinton big woman campu  breitba...  \n",
      "2      whi truth might get you fire whi truth might g...  \n",
      "3       civilian kill in singl us airstrik have been ...  \n",
      "4      iranian woman jail fiction unpublish stori wom...  \n",
      "...                                                  ...  \n",
      "20097  rapper ti trump ‚poster child for white suprem...  \n",
      "20098  nfl playoff schedul matchup odd  the new york ...  \n",
      "20099  macy‚ is said receiv takeov approach hudson‚ b...  \n",
      "20100  nato russia to hold parallel exercis in balkan...  \n",
      "20101  what keep f aliv david swanson author activist...  \n",
      "\n",
      "[20102 rows x 6 columns]\n"
     ]
    }
   ],
   "source": [
    "#print out and check the current training dataset\n",
    "print(train_data)"
   ]
  },
  {
   "cell_type": "code",
   "execution_count": 118,
   "id": "e7121d4b",
   "metadata": {},
   "outputs": [
    {
     "name": "stdout",
     "output_type": "stream",
     "text": [
      "Train Shape : (20102, 6)\n",
      "Test Shape : (5055, 5)\n",
      "Submit Shape : (5200, 2)\n"
     ]
    }
   ],
   "source": [
    "#print and check all three datasets' shapes\n",
    "print(f\"Train Shape : {train_data.shape}\")\n",
    "print(f\"Test Shape : {test_data.shape}\")\n",
    "print(f\"Submit Shape : {submit_data.shape}\")"
   ]
  },
  {
   "cell_type": "code",
   "execution_count": 119,
   "id": "6a5b0ea3",
   "metadata": {},
   "outputs": [
    {
     "data": {
      "text/plain": [
       "'1 hous dem aid we didn‚t even see comey‚ letter until jason chaffetz tweet it hous dem aid we didn‚t even see comey‚ letter until jason chaffetz tweet it by darrel lucu octob   subscrib jason chaffetz stump american fork utah  imag courtesi michael jolley avail creativ commonsbi licens with apolog keith olbermann doubt worst person the world week‚fbi director jame comey but accord hous democrat aid look like also know secondworst person well it turn comey sent nowinfam letter announc fbi look email may relat hillari clinton‚ email server rank democrat relev committe didn‚t hear comey they found via tweet one republican committe chairmen as know comey notifi republican chairmen democrat rank member hous intellig judiciari oversight committe agenc review email recent discov order see contain classifi inform not long letter went oversight committe chairman jason chaffetz set polit world ablaz tweet fbi dir inform the fbi learn exist email appear pertin investig case reopen ‚ jason chaffetz jasoninthehous octob   of cours know case  comey actual say review email light ‚an unrel case‚‚which know anthoni weiner‚ sext teenag but appar littl thing fact didn‚t matter chaffetz the utah republican alreadi vow initi raft investig hillari wins‚at least two years‚ worth possibl entir term‚ worth appar chaffetz thought fbi alreadi work him‚result tweet briefli roil nation cooler head realiz dud but accord senior hous democrat aid misread letter may least chaffetz‚ sin that aid told shareblu boss democrat didn‚t even know comey‚ letter time‚and found check twitter ‚democrat rank member relev committe didn‚t receiv comey‚ letter republican chairmen in fact democrat rank member didn‚ receiv chairman oversight govern reform committe jason chaffetz tweet made public‚ so let‚ see we‚v got right the fbi director tell chaffetz gop committe chairmen major develop potenti polit explos investig neither chaffetz colleagu courtesi let democrat counterpart know instead accord aid made find twitter there alreadi talk daili ko comey provid advanc notic letter chaffetz republican give time turn spin machin that may make good theater noth far even suggest case after noth far suggest comey anyth grossli incompet tonedeaf what suggest howev chaffetz act way make dan burton darrel issa look like model respons bipartisanship he didn‚t even decenc notifi rank member elijah cum someth explos if doesn‚t trampl basic standard fair i don‚t know grant it‚ like chaffetz answer he sit ridicul republican district anchor provo orem cook partisan vote index r gave mitt romney punish  percent vote  moreov republican hous leadership given full support chaffetz‚ plan fish expedit but doesn‚t mean can‚t turn hot light after textbook exampl hous becom republican control and also second worst person world about darrel lucu darrel someth graduat univers north carolina consid journalist old school an attempt turn member religi right colleg succeed turn religi right worst nightmarea charismat christian unapologet liber hi desir stand scare silenc increas surviv abus threeyear marriag you may know daili ko christian dem nc  follow twitter darrelllucu connect facebook  click buy darrel mello yello connect'"
      ]
     },
     "execution_count": 119,
     "metadata": {},
     "output_type": "execute_result"
    }
   ],
   "source": [
    "\n",
    "# Drop all unneccessary columns for training purposes\n",
    "x = train_data.drop('label',axis = 1)\n",
    "x = x.drop('title', axis=1)\n",
    "x = x.drop('text', axis=1)\n",
    "x = x.drop(['id'],axis=1)\n",
    "x.reset_index(drop=True)\n",
    "\n",
    "\n",
    "#Merging the all row data in a single list\n",
    "info = []\n",
    "for row in range(len(x.total)):\n",
    "    info.append(' '.join(str(word).lower() for word in x.iloc[row,0:2]))\n",
    "info[0] #print out to check the first article"
   ]
  },
  {
   "cell_type": "code",
   "execution_count": 120,
   "id": "a99cc88f",
   "metadata": {
    "scrolled": true
   },
   "outputs": [],
   "source": [
    "#Get the TF-IDF scores for the words in the articles\n",
    "\n",
    "from sklearn.feature_extraction.text import TfidfVectorizer\n",
    "tv = TfidfVectorizer()\n",
    "X = tv.fit_transform(info)\n",
    "y = train_data['label']"
   ]
  },
  {
   "cell_type": "code",
   "execution_count": 149,
   "id": "677f4dfa",
   "metadata": {},
   "outputs": [],
   "source": [
    "#Separate data into training and testing with the testing data being 25% of the total train data\n",
    "\n",
    "from sklearn.model_selection import train_test_split\n",
    "X_train, X_test, y_train, y_test = train_test_split(X, y, test_size=0.25, random_state=0)"
   ]
  },
  {
   "cell_type": "code",
   "execution_count": 150,
   "id": "4bfc11cc",
   "metadata": {},
   "outputs": [
    {
     "data": {
      "text/plain": [
       "RandomForestClassifier(criterion='entropy')"
      ]
     },
     "execution_count": 150,
     "metadata": {},
     "output_type": "execute_result"
    }
   ],
   "source": [
    "#Build a random forest classifier from 100 decision trees\n",
    "\n",
    "from sklearn.ensemble import RandomForestClassifier\n",
    "rf=RandomForestClassifier(n_estimators=100,criterion='entropy')\n",
    "rf.fit(X_train,y_train)"
   ]
  },
  {
   "cell_type": "code",
   "execution_count": 151,
   "id": "e4060b50",
   "metadata": {},
   "outputs": [],
   "source": [
    "#Apply the model in the testing data\n",
    "y_pred =rf.predict(X_test)"
   ]
  },
  {
   "cell_type": "code",
   "execution_count": 152,
   "id": "75f3c609",
   "metadata": {},
   "outputs": [
    {
     "name": "stdout",
     "output_type": "stream",
     "text": [
      "[[2522  109]\n",
      " [ 235 2160]]\n",
      "\n",
      "\n",
      "0.9315559092717867\n"
     ]
    }
   ],
   "source": [
    "#Get the accuracy score\n",
    "from sklearn.metrics import confusion_matrix, accuracy_score\n",
    "cm = confusion_matrix(y_test,y_pred)\n",
    "\n",
    "accuracy_score = accuracy_score(y_test,y_pred)\n",
    "print(cm)\n",
    "print('\\n')\n",
    "print(accuracy_score)"
   ]
  },
  {
   "cell_type": "code",
   "execution_count": 153,
   "id": "c3264d1c",
   "metadata": {},
   "outputs": [
    {
     "data": {
      "image/png": "[encoded data removed]",
      "text/plain": [
       "<Figure size 360x360 with 2 Axes>"
      ]
     },
     "metadata": {
      "needs_background": "light"
     },
     "output_type": "display_data"
    }
   ],
   "source": [
    "#Print out the confusion matrix\n",
    "import seaborn as sns\n",
    "import matplotlib.pyplot as plt\n",
    "\n",
    "f, ax = plt.subplots(figsize = (5,5))\n",
    "sns.heatmap(cm, annot = True, fmt =\".0f\", ax=ax,cmap=plt.cm.Blues)\n",
    "plt.xlabel(\"Predicted label\")\n",
    "plt.ylabel(\"True label\")\n",
    "plt.show()"
   ]
  },
  {
   "cell_type": "code",
   "execution_count": 154,
   "id": "f97fd638",
   "metadata": {},
   "outputs": [
    {
     "data": {
      "text/plain": [
       "Pipeline(steps=[('vect', CountVectorizer()), ('tfidf', TfidfTransformer()),\n",
       "                ('model', RandomForestClassifier(criterion='entropy'))])"
      ]
     },
     "execution_count": 154,
     "metadata": {},
     "output_type": "execute_result"
    }
   ],
   "source": [
    "#Build a pipeline to allow the model to predict any article\n",
    "\n",
    "from sklearn.pipeline import Pipeline\n",
    "from sklearn.feature_extraction.text import TfidfTransformer\n",
    "from sklearn.feature_extraction.text import CountVectorizer\n",
    "from sklearn.feature_extraction.text import TfidfVectorizer\n",
    "RF_pipeline = Pipeline([\n",
    "    ('vect', CountVectorizer()),\n",
    "    ('tfidf', TfidfTransformer(norm='l2')),\n",
    "    ('model', rf),\n",
    "])\n",
    "\n",
    "RF_pipeline.fit(train_data['total'], train_data['label'])"
   ]
  },
  {
   "cell_type": "code",
   "execution_count": 155,
   "id": "fc147395",
   "metadata": {},
   "outputs": [
    {
     "name": "stdout",
     "output_type": "stream",
     "text": [
      "Given News is Predicted as False\n"
     ]
    }
   ],
   "source": [
    "#Testing my model on a fake article\n",
    "\n",
    "test_text = \"WASHINGTON, D.C. — A review of FBI Director James Comey’s professional history and relationships shows that the Obama cabinet leader — now under fire for his handling of the investigation of Hillary Clinton — is deeply entrenched in the big-money cronyism culture of Washington, D.C. His personal and professional relationships — all undisclosed as he announced the Bureau would not prosecute Clinton — reinforce bipartisan concerns that he may have politicized the criminal probe. These concerns focus on millions of dollars that Comey accepted from a Clinton Foundation defense contractor, Comey’s former membership on a Clinton Foundation corporate partner’s board, and his surprising financial relationship with his brother Peter Comey, who works at the law firm that does the Clinton Foundation’s taxes. Lockheed Martin When President Obama nominated Comey to become FBI director in 2013, Comey promised the United States Senate that he would recuse himself on all cases involving former employers. But Comey earned $6 million in one year alone from Lockheed Martin. Lockheed Martin became a Clinton Foundation donor that very year. Comey served as deputy attorney general under John Ashcroft for two years of the Bush administration. When he left the Bush administration, he went directly to Lockheed Martin and became vice president, acting as a general counsel. How much money did James Comey make from Lockheed Martin in his last year with the company, which he left in 2010? More than $6 million in compensation. Lockheed Martin is a Clinton Foundation donor. The company admitted to becoming a Clinton Global Initiative member in 2010. According to records, Lockheed Martin is also a member of the American Chamber of Commerce in Egypt, which paid Bill Clinton $250,000 to deliver a speech in 2010. In 2010, Lockheed Martin won 17 approvals for private contracts from the Hillary Clinton State Department. HSBC Holdings In 2013, Comey became a board member, a director, and a Financial System Vulnerabilities Committee member of the London bank HSBC Holdings. “Mr. Comey’s appointment will be for an initial three-year term which, subject to re-election by shareholders, will expire at the conclusion of the 2016 Annual General Meeting,” according to HSBC company records. HSBC Holdings and its various philanthropic branches routinely partner with the Clinton Foundation. For instance, HSBC Holdings has partnered with Deutsche Bank through the Clinton Foundation to “retrofit 1,500 to 2,500 housing units, primarily in the low- to moderate-income sector” in “New York City.” “Retrofitting” refers to a Green initiative to conserve energy in commercial housing units. Clinton Foundation records show that the Foundation projected “$1 billion in financing” for this Green initiative to conserve people’s energy in low-income housing units. Who Is Peter Comey? When our source called the Chinatown offices of D.C. law firm DLA Piper and asked for “Peter Comey,” a receptionist immediately put him through to Comey’s direct line. But Peter Comey is not featured on the DLA Piper website. Peter Comey serves as “Senior Director of Real Estate Operations for the Americas” for DLA Piper. James Comey was not questioned about his relationship with Peter Comey in his confirmation hearing. DLA Piper is the firm that performed the independent audit of the Clinton Foundation in November during Clinton-World’s first big push to put the email scandal behind them. DLA Piper’s employees taken as a whole represent a major Hillary Clinton 2016 campaign donation bloc and Clinton Foundation donation base. DLA Piper ranks #5 on Hillary Clinton’s all-time career Top Contributors list, just ahead of Goldman Sachs. And here is another thing: Peter Comey has a mortgage on his house that is owned by his brother James Comey, the FBI director. Peter Comey’s financial records, obtained by Breitbart News, show that he bought a $950,000 house in Vienna, Virginia, in June 2008. He needed a $712,500 mortgage from First Savings Mortgage Corporation. But on January 31, 2011, James Comey and his wife stepped in to become Private Party lenders. They granted a mortgage on the house for $711,000. Financial records suggest that Peter Comey took out two such mortgages from his brother that day. This financial relationship between the Comey brothers began prior to James Comey’s nomination to become director of the FBI. DLA Piper did not answer Breitbart News’ question as to whether James Comey and Peter Comey spoke at any point about this mortgage or anything else during the Clinton email investigation. Peter Comey Re-Designed the FBI Building FBI Director James Comey grew up in the New Jersey suburbs with his brother Peter. Both Comeys were briefly taken captive in 1977 by the “Ramsey rapist,” but the boys managed to escape through a window in their home, and neither boy was harmed. James Comey became a prosecutor who worked on the Gambino crime family case. He went on to the Bush administration, a handful of private sector jobs, and then the Obama administration in 2013. Peter Comey, meanwhile, went into construction. After getting an MBA in real estate and urban development from George Washington University in 1998, Peter Comey became an executive at a company that re-designed George Washington University between 2004 and 2007 while his brother was in town working for the Bush administration. In January 2009, at the beginning of the Obama administration, Peter Comey became “a real estate and construction consultant” for Procon Consulting. Procon Consulting’s client list includes “FBI Headquarters Washington, DC.” So what did Procon Consulting do for FBI Headquarters? Quite a bit, apparently. According to the firm’s records: Procon provided strategic project management for the consolidation of over 11,000 FBI personnel into one, high security, facility. Since 1972 the Federal Bureau of Investigation has had its headquarters in a purpose built 2.1 million square foot building on Pennsylvania Avenue. Having become functionally obsolete and in need of major repairs, GSA and the FBI were considering ways to meet the space needs required to maintain the Bureau’s mission and consolidate over 11,000 personnel. Procon assisted GSA in assessing the FBI’s space needs and options for fulfilling those needs. Services provided included project management related to site evaluations, budgeting, due diligence, and the development of procurement and funding strategies. Those “funding strategies” included talking to “stakeholders”: “Worked with stakeholders and key leadership to identify strategic objectives, goals and long range plans for capital and real estate projects.” Procon Consulting obtained its contract for FBI Headquarters prior to James Comey’s nomination to serve as director of the FBI. In June 2011, Peter Comey left Procon Consulting to become “Senior Director of Real Estate Operations for the Americas” for DLA Piper. Peter Comey has generated some controversy in that role. According to Law360 in May 2013 (the same month that James Comey was confirmed as someone being considered by Obama to become FBI director): Two real estate services businesses filed a $10 million suit against the law firm Monday alleging it stiffed them on as much as $760,000 of work done at DLA Piper’s Chicago office and improperly gave proprietary information to a competitor. …. The plaintiffs take particular aim at Peter Comey, DLA Piper’s senior director of real estate operations. Leasecorp and SpaceLogik include several emails in the complaint that are purportedly from DLA Piper senior real estate partners Jay Epstein and Rich Klawiter and are sharply critical of Comey’s handling of the matter. In one email, Epstein wrote that “it’s an embarrassment for the firm to be treating someone who we are working with like this.” In another email allegedly from Klawiter on Feb. 20, the DLA Piper partner informed Leasecorp President Michael Walker, a principal for both plaintiffs, that Comey had sent him and Epstein an email claiming that the real estate services firms were behind on their contractual obligations.\"\n",
    "RF_predict = RF_pipeline.predict([clean(test_text)])\n",
    "if (RF_predict == 1):\n",
    "    print(\"Given News is Predicted as Real\")\n",
    "else:\n",
    "    print(\"Given News is Predicted as False\")\n",
    "    \n",
    "\n"
   ]
  }
 ],
 "metadata": {
  "kernelspec": {
   "display_name": "Python 3",
   "language": "python",
   "name": "python3"
  },
  "language_info": {
   "codemirror_mode": {
    "name": "ipython",
    "version": 3
   },
   "file_extension": ".py",
   "mimetype": "text/x-python",
   "name": "python",
   "nbconvert_exporter": "python",
   "pygments_lexer": "ipython3",
   "version": "3.8.8"
  }
 },
 "nbformat": 4,
 "nbformat_minor": 5
}
